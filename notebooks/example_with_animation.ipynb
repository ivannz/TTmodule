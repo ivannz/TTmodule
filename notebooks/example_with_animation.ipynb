{
 "cells": [
  {
   "cell_type": "markdown",
   "metadata": {},
   "source": [
    "# TT-decomposition"
   ]
  },
  {
   "cell_type": "markdown",
   "metadata": {},
   "source": [
    "[tt_hse16_slides](https://bayesgroup.github.io/team/arodomanov/tt_hse16_slides.pdf)"
   ]
  },
  {
   "cell_type": "markdown",
   "metadata": {},
   "source": [
    "[Tensorising Neural Networks](https://arxiv.org/pdf/1509.06569.pdf)"
   ]
  },
  {
   "cell_type": "markdown",
   "metadata": {},
   "source": [
    "Unfolding matrices into a tensor $A \\in \\mathbb{R}^{n_0\\times \\ldots \\times n_{d-1}}$\n",
    "$$\n",
    "    A_k = \\bigl(A_{i_{:k}, i_{k:}}\\bigr)_{i \\in \\prod_{j=0}^{d-1} [n_j]}\n",
    "        \\in \\mathbb{R}^{[n_0 \\times \\ldots \\times n_{k-1}] \\times [n_k \\times \\ldots \\times n_d]}\n",
    "    \\,. $$\n",
    "where $n_{:k} = (n_j)_{j=0}^{k-1}$ and $n_{k:} = (n_j)_{j=k}^{d-1}$ -- zero-based like numpy."
   ]
  },
  {
   "cell_type": "markdown",
   "metadata": {},
   "source": [
    "TT-format:\n",
    "$$\n",
    "    A_{i} = \\sum_{\\alpha}\n",
    "        \\prod_{j=0}^{d-1} G_{\\alpha_j i_j \\alpha_{j+1}}\n",
    "    \\,, $$\n",
    "where $G_{\\alpha_j i_j \\alpha_{j+1}} \\in \\mathbb{R}^{r_j \\times r_{j+1}}$\n",
    "and $r_0 = r_d = 1$. The rank of the TT-decomposition is $r = \\max_{j=0}^d r_j$."
   ]
  },
  {
   "cell_type": "markdown",
   "metadata": {},
   "source": [
    "## Tensors"
   ]
  },
  {
   "cell_type": "code",
   "execution_count": null,
   "metadata": {},
   "outputs": [],
   "source": [
    "import numpy as np\n",
    "\n",
    "import torch\n",
    "import torch.nn.functional as F\n",
    "\n",
    "%matplotlib inline\n",
    "import matplotlib.pyplot as plt"
   ]
  },
  {
   "cell_type": "markdown",
   "metadata": {},
   "source": [
    "Import Tensor-Train converters"
   ]
  },
  {
   "cell_type": "code",
   "execution_count": null,
   "metadata": {},
   "outputs": [],
   "source": [
    "from ttmodule import tensor_to_tt, tt_to_tensor\n",
    "\n",
    "from ttmodule import matrix_to_tt, tt_to_matrix"
   ]
  },
  {
   "cell_type": "markdown",
   "metadata": {},
   "source": [
    "A simple, run-of-the-mill training loop.\n",
    "* imports from [`cplxmodule`](https://github.com/ivannz/cplxmodule.git)"
   ]
  },
  {
   "cell_type": "code",
   "execution_count": null,
   "metadata": {},
   "outputs": [],
   "source": [
    "import tqdm\n",
    "from cplxmodule.relevance import penalties\n",
    "from cplxmodule.utils.stats import sparsity\n",
    "\n",
    "def train_model(X, y, model, n_steps=20000, threshold=1.0,\n",
    "                klw=1e-3, verbose=False):\n",
    "    model.train()\n",
    "    optim = torch.optim.Adamax(model.parameters(), lr=2e-3)\n",
    "\n",
    "    losses, weights = [], []\n",
    "    with tqdm.tqdm(range(n_steps), disable=not verbose) as bar:\n",
    "        for i in bar:\n",
    "            optim.zero_grad()\n",
    "\n",
    "            y_pred = model(X)\n",
    "\n",
    "            mse = F.mse_loss(y_pred, y)\n",
    "            kl_d = sum(penalties(model))\n",
    "\n",
    "            loss = mse + klw * kl_d\n",
    "            loss.backward()\n",
    "\n",
    "            optim.step()\n",
    "\n",
    "            losses.append(float(loss))\n",
    "            bar.set_postfix_str(f\"{float(mse):.3e} {float(kl_d):.3e}\")\n",
    "            with torch.no_grad():\n",
    "                weights.append(model.weight.clone())\n",
    "        # end for\n",
    "    # end with\n",
    "    return model.eval(), losses, weights\n",
    "\n",
    "def test_model(X, y, model, threshold=1.0):\n",
    "    model.eval()\n",
    "    with torch.no_grad():\n",
    "        mse = F.mse_loss(model(X), y)\n",
    "        kl_d = sum(penalties(model))\n",
    "\n",
    "    f_sparsity = sparsity(model, threshold=threshold, hard=True)\n",
    "    print(f\"{f_sparsity:.1%} {mse.item():.3e} {float(kl_d):.3e}\")\n",
    "    return model"
   ]
  },
  {
   "cell_type": "markdown",
   "metadata": {},
   "source": [
    "<br>"
   ]
  },
  {
   "cell_type": "code",
   "execution_count": null,
   "metadata": {},
   "outputs": [],
   "source": [
    "from ttmodule import TTLinear\n",
    "\n",
    "from torch.nn import Linear\n",
    "from cplxmodule.relevance import LinearARD\n",
    "from cplxmodule.relevance import LinearL0ARD"
   ]
  },
  {
   "cell_type": "markdown",
   "metadata": {},
   "source": [
    "Specify the problem and device"
   ]
  },
  {
   "cell_type": "code",
   "execution_count": null,
   "metadata": {},
   "outputs": [],
   "source": [
    "threshold, device_ = 3.0, \"cpu\""
   ]
  },
  {
   "cell_type": "markdown",
   "metadata": {},
   "source": [
    "Create a simple dataset: $(x_i, y_i)_{i=1}^n \\in \\mathbb{R}^{d}\\times\\mathbb{R}^{p}$\n",
    "and $y_i = E_{:p} x_i$ with $E_{:p} = (e_j)_{j=1}^p$ the diagonal projection\n",
    "matrix onto the first $p$ dimensions. We put $n\\leq p$."
   ]
  },
  {
   "cell_type": "code",
   "execution_count": null,
   "metadata": {},
   "outputs": [],
   "source": [
    "import torch.utils.data\n",
    "\n",
    "n_features, n_output = 250, 50\n",
    "\n",
    "X = torch.randn(10200, n_features)\n",
    "y = -X[:, :n_output].clone()\n",
    "\n",
    "dataset = torch.utils.data.TensorDataset(X.to(device_), y.to(device_))\n",
    "\n",
    "train, test = dataset[:200], dataset[200:]"
   ]
  },
  {
   "cell_type": "markdown",
   "metadata": {},
   "source": [
    "A TT-linear layer."
   ]
  },
  {
   "cell_type": "code",
   "execution_count": null,
   "metadata": {},
   "outputs": [],
   "source": [
    "# model = TTLinear([5, 5, 5, 2], [5, 5, 2, 1], rank=5, bias=False, reassemble=True)\n",
    "# model = TTLinear([25, 5, 2], [5, 5, 2], rank=1, bias=False, reassemble=True)\n",
    "model = TTLinear([5, 5, 5, 1, 2], [5, 5, 2, 1, 1], rank=3, bias=False, reassemble=True)"
   ]
  },
  {
   "cell_type": "code",
   "execution_count": null,
   "metadata": {},
   "outputs": [],
   "source": [
    "# model = LinearARD(n_features, n_output, bias=False)\n",
    "# model = LinearL0ARD(n_features, n_output, bias=False, group=None)"
   ]
  },
  {
   "cell_type": "markdown",
   "metadata": {},
   "source": [
    "Train"
   ]
  },
  {
   "cell_type": "code",
   "execution_count": null,
   "metadata": {},
   "outputs": [],
   "source": [
    "model, losses, weights = train_model(\n",
    "    *train, model, n_steps=2000, threshold=threshold,\n",
    "    klw=1e0, verbose=False)"
   ]
  },
  {
   "cell_type": "markdown",
   "metadata": {},
   "source": [
    "Test the model"
   ]
  },
  {
   "cell_type": "code",
   "execution_count": null,
   "metadata": {},
   "outputs": [],
   "source": [
    "test_model(*test, model, threshold=threshold)"
   ]
  },
  {
   "cell_type": "markdown",
   "metadata": {},
   "source": [
    "<br>"
   ]
  },
  {
   "cell_type": "markdown",
   "metadata": {},
   "source": [
    "## Simple visualization"
   ]
  },
  {
   "cell_type": "markdown",
   "metadata": {},
   "source": [
    "... with not very simple setup"
   ]
  },
  {
   "cell_type": "code",
   "execution_count": null,
   "metadata": {},
   "outputs": [],
   "source": [
    "from matplotlib.gridspec import GridSpec\n",
    "\n",
    "\n",
    "def canvas_setup(figsize, **kwargs):\n",
    "    fig = plt.figure(figsize=figsize)\n",
    "    gs = GridSpec(1, 2, figure=fig, width_ratios=[7, 1])\n",
    "    ax_main = fig.add_subplot(gs[0])\n",
    "    ax_loss = fig.add_subplot(gs[1])\n",
    "\n",
    "    with torch.no_grad():\n",
    "        ax_main.imshow(abs(weights[0]).numpy(), cmap=plt.cm.bone)\n",
    "        ax_loss.semilogy(losses)\n",
    "    \n",
    "    plt.tight_layout()\n",
    "    return fig, (ax_main, ax_loss)"
   ]
  },
  {
   "cell_type": "code",
   "execution_count": null,
   "metadata": {},
   "outputs": [],
   "source": [
    "def canvas_clear(*axes):\n",
    "    \"\"\"Clear axis preserving its aesthetics.\"\"\"\n",
    "    for ax in axes:\n",
    "        props = ax.properties()\n",
    "        ax.clear()\n",
    "        ax.update({\n",
    "            k: props[k] for k in [\n",
    "                \"xticks\", \"yticks\", \"xlim\", \"ylim\", \"zorder\", \"alpha\"\n",
    "            ]\n",
    "        })\n",
    "    return axes"
   ]
  },
  {
   "cell_type": "code",
   "execution_count": null,
   "metadata": {},
   "outputs": [],
   "source": [
    "def animate_weight(n_epoch, *axes):\n",
    "    ax_main, ax_loss = canvas_clear(*axes)\n",
    "    \n",
    "    artists = []\n",
    "    with torch.no_grad():\n",
    "        artists.append(ax_main.imshow(\n",
    "            abs(weights[n_epoch]).numpy(),\n",
    "            cmap=plt.cm.bone,\n",
    "            interpolation=None\n",
    "        ))\n",
    "    artists.append(ax_main.set_title(f\"it. {n_epoch}\"))\n",
    "\n",
    "    artists.append(\n",
    "        ax_loss.semilogy(losses[:n_epoch + 1], lw=2, color=\"fuchsia\")\n",
    "    )\n",
    "    artists.append(\n",
    "        ax_loss.scatter([n_epoch + 1], [losses[n_epoch]],\n",
    "                        s=25, color=\"cyan\")\n",
    "    )\n",
    "    artists.append(\n",
    "        ax_loss.axvline(n_epoch + 1, c='cyan', lw=2, alpha=0.25, zorder=-10)\n",
    "    )\n",
    "\n",
    "    return [\n",
    "        artist_ for artist_ in artists\n",
    "        if hasattr(artist_, \"set_animated\")\n",
    "    ]"
   ]
  },
  {
   "cell_type": "markdown",
   "metadata": {},
   "source": [
    "An interactive slider with ipywidgets"
   ]
  },
  {
   "cell_type": "code",
   "execution_count": null,
   "metadata": {},
   "outputs": [],
   "source": [
    "from ipywidgets import widgets\n",
    "\n",
    "def int_slider(value, min, max, step):\n",
    "    return widgets.IntSlider(\n",
    "        value=value, min=min, max=max, step=step, continuous_update=False,\n",
    "        layout=widgets.Layout(min_width='500px', display='flex'))\n"
   ]
  },
  {
   "cell_type": "code",
   "execution_count": null,
   "metadata": {},
   "outputs": [],
   "source": [
    "def plot_weight(n_epoch=0):\n",
    "    fig, axes = canvas_setup(figsize=(16, 3))\n",
    "    animate_weight(n_epoch, *axes)\n",
    "    plt.show()\n",
    "\n",
    "\n",
    "widgets.interact(plot_weight, n_epoch=int_slider(10, 0, len(weights)-1, 10));"
   ]
  },
  {
   "cell_type": "markdown",
   "metadata": {},
   "source": [
    "<br>"
   ]
  },
  {
   "cell_type": "code",
   "execution_count": null,
   "metadata": {},
   "outputs": [],
   "source": [
    "import matplotlib.animation as animation\n",
    "\n",
    "FFMpegWriter = animation.writers['ffmpeg_file']\n",
    "class PatchedFFMpegWriter(FFMpegWriter):\n",
    "    def setup(self, fig, outfile, *args, **kwargs):\n",
    "        dpi = kwargs.get(\"dpi\", getattr(self, \"dpi\", None))\n",
    "\n",
    "        frame_prefix = kwargs.get(\n",
    "            \"frame_prefix\", getattr(self, \"temp_prefix\", '_tmp'))\n",
    "\n",
    "        clear_temp = kwargs.get(\n",
    "            \"clear_temp\", getattr(self, \"clear_temp\", True))\n",
    "\n",
    "        super().setup(fig, outfile, clear_temp=clear_temp,\n",
    "                      frame_prefix=frame_prefix, dpi=dpi)"
   ]
  },
  {
   "cell_type": "code",
   "execution_count": null,
   "metadata": {
    "scrolled": true
   },
   "outputs": [],
   "source": [
    "import os\n",
    "import time\n",
    "import tempfile\n",
    "\n",
    "dttm = time.strftime(\"%Y%m%d-%H%M%S\")\n",
    "\n",
    "fig, axes = canvas_setup(figsize=(16, 3))\n",
    "\n",
    "fps, n_frames = 15, len(weights)\n",
    "\n",
    "schedule = [\n",
    "    *range(0, 25, 1)\n",
    "] + [\n",
    "    *range(25, n_frames, 10)\n",
    "]\n",
    "\n",
    "outfile = os.path.join(\".\", f\"weight-{model.__class__.__name__}-{dttm}.mp4\")\n",
    "\n",
    "# dump the intermediate frames into a temporary dir\n",
    "with tempfile.TemporaryDirectory() as CACHE_PATH:\n",
    "    print(f\"temp dir at {CACHE_PATH}\", flush=True)\n",
    "\n",
    "    writer = PatchedFFMpegWriter(fps=fps, bitrate=-1, metadata={})\n",
    "    writer.setup(fig, outfile, frame_prefix=os.path.join(\n",
    "        CACHE_PATH, f\"_frame_\"))\n",
    "\n",
    "    ani = animation.FuncAnimation(\n",
    "        fig, animate_weight, tqdm.tqdm_notebook(schedule, unit=\"frm\"),\n",
    "        interval=1, repeat_delay=None, blit=False, fargs=axes)\n",
    "    ani.save(outfile, writer=writer)\n",
    "# end with\n",
    "plt.close()"
   ]
  },
  {
   "cell_type": "code",
   "execution_count": null,
   "metadata": {},
   "outputs": [],
   "source": [
    "outfile = \"\"\"/Users/user/Bitbox/weight-TTLinear-20190707-202453.mp4\"\"\""
   ]
  },
  {
   "cell_type": "code",
   "execution_count": 1,
   "metadata": {},
   "outputs": [],
   "source": [
    "from IPython.display import Video\n",
    "\n",
    "Video(data=outfile, embed=True, width=768)"
   ]
  },
  {
   "cell_type": "code",
   "execution_count": null,
   "metadata": {},
   "outputs": [],
   "source": [
    "assert False"
   ]
  },
  {
   "cell_type": "markdown",
   "metadata": {},
   "source": [
    "<br>"
   ]
  },
  {
   "cell_type": "markdown",
   "metadata": {},
   "source": [
    "### Trunk: model grafting "
   ]
  },
  {
   "cell_type": "code",
   "execution_count": null,
   "metadata": {},
   "outputs": [],
   "source": [
    "mod, name = module, \"columns.boost00.bricks.0.body.dense03\"\n",
    "\n",
    "path = []\n",
    "child, dot, name = name.partition(\".\")\n",
    "while dot:\n",
    "    mod = getattr(mod, child, None)\n",
    "    if mod is None:\n",
    "        break\n",
    "\n",
    "    path.append(child)\n",
    "    child, dot, name = name.partition(\".\")\n",
    "\n",
    "mod = getattr(mod, child, None)"
   ]
  },
  {
   "cell_type": "code",
   "execution_count": null,
   "metadata": {},
   "outputs": [],
   "source": [
    "mod, child, path"
   ]
  },
  {
   "cell_type": "code",
   "execution_count": null,
   "metadata": {},
   "outputs": [],
   "source": [
    "getattr(mod, child)"
   ]
  },
  {
   "cell_type": "markdown",
   "metadata": {},
   "source": [
    "<br>"
   ]
  }
 ],
 "metadata": {
  "kernelspec": {
   "display_name": "Python 3",
   "language": "python",
   "name": "python3"
  },
  "language_info": {
   "codemirror_mode": {
    "name": "ipython",
    "version": 3
   },
   "file_extension": ".py",
   "mimetype": "text/x-python",
   "name": "python",
   "nbconvert_exporter": "python",
   "pygments_lexer": "ipython3",
   "version": "3.7.3"
  }
 },
 "nbformat": 4,
 "nbformat_minor": 2
}
